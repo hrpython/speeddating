{
  "nbformat": 4,
  "nbformat_minor": 0,
  "metadata": {
    "colab": {
      "name": "Construire un quiz - S1-1A.ipynb",
      "version": "0.3.2",
      "provenance": []
    },
    "kernelspec": {
      "name": "python3",
      "display_name": "Python 3"
    }
  },
  "cells": [
    {
      "cell_type": "markdown",
      "metadata": {
        "id": "FY347VxWs_bJ",
        "colab_type": "text"
      },
      "source": [
        "# Construire un quiz\n",
        "\n",
        "---\n",
        "\n",
        "\n"
      ]
    },
    {
      "cell_type": "markdown",
      "metadata": {
        "id": "qJizpyqVwYnF",
        "colab_type": "text"
      },
      "source": [
        "*Un bon moyen de pratiquer les conditions est de construire un quiz. Faisons le étape par étape*"
      ]
    },
    {
      "cell_type": "markdown",
      "metadata": {
        "id": "UtRAGPeSwhiW",
        "colab_type": "text"
      },
      "source": [
        "    1. Posez une question à l’utilisateur via la console \n",
        "    2. Vérifier que la réponse de l’utilisateur soit vraie ou fausse\n",
        "    3. Si la réponse est vraie, la console devra sortir : \n",
        "\n",
        "```\n",
        "Bravo, c’est la bonne réponse\n",
        "```\n",
        "    4. Si la réponse est fausse, la console devra sortir :\n",
        "    \n",
        "```\n",
        "Dommage, ce n’est pas la bonne réponse\n",
        "```\n",
        "    5. Posez 3 autres questions sur le même modèle"
      ]
    },
    {
      "cell_type": "code",
      "metadata": {
        "id": "EQxWuVl7yFoU",
        "colab_type": "code",
        "colab": {
          "base_uri": "https://localhost:8080/",
          "height": 138
        },
        "outputId": "dcff6257-9638-419e-f587-63f3ec29b6f8"
      },
      "source": [
        ""
      ],
      "execution_count": 2,
      "outputs": [
        {
          "output_type": "stream",
          "text": [
            "Voici notre quiz\n",
            "Combien de fois la France a gagné la coupe du monde ?4\n",
            "Dommage, ce n’est pas la bonne réponse\n",
            "Quand a été fondé Apple ?1980\n",
            "Dommage, ce n’est pas la bonne réponse\n",
            "Qui a fondé SpaceXelon musk\n",
            "Bravo, c’est la bonne réponse\n"
          ],
          "name": "stdout"
        }
      ]
    },
    {
      "cell_type": "markdown",
      "metadata": {
        "id": "sLMbYgaOyxiX",
        "colab_type": "text"
      },
      "source": [
        "Nous avons un problème avec notre quiz. Si l’utilisateur n’a pas donné la bonne réponse, le programme passe à la question suivante. On souhaite plutôt que le programme repose la question si l’utilisateur n’a pas donné la bonne réponse\n",
        "\n",
        "\n",
        "    6. En utilisant une boucle WHILE, faites en sorte que le programme repose la question à l’utilisateur s’il n’a pas donné la bonne réponse\n",
        "    \n",
        "    7. Réécrivez votre programme pour toutes les autres questions"
      ]
    },
    {
      "cell_type": "code",
      "metadata": {
        "id": "csyxqJzBxPfN",
        "colab_type": "code",
        "colab": {
          "base_uri": "https://localhost:8080/",
          "height": 138
        },
        "outputId": "5b4e2de4-3860-4073-971d-2439304c21cd"
      },
      "source": [
        ""
      ],
      "execution_count": 1,
      "outputs": [
        {
          "output_type": "stream",
          "text": [
            "Voici notre quiz\n",
            "Combien de fois la France a gagné la coupe du monde ?4\n",
            "Combien de fois la France a gagné la coupe du monde ?4\n",
            "Combien de fois la France a gagné la coupe du monde ?2\n",
            "Quand a été fondé Apple1976\n",
            "Qui a fondé SpaceXelon musk\n",
            "Bravo ! Tu as gagné le quiz !\n"
          ],
          "name": "stdout"
        }
      ]
    },
    {
      "cell_type": "markdown",
      "metadata": {
        "id": "nh4voWn8x3dM",
        "colab_type": "text"
      },
      "source": [
        "Maintenant, nous avons un dernier problème. On voudrait que l’utilisateur n’ait que 3 chances pour réussir le quiz \n",
        "\n",
        "    1. Améliorer votre programme pour que l’utilisateur n’ait que 3 chances pour réussir le quiz. Si l’utilisateur a répondu faux plus de 3 alors la console devra sortir “Dommage tu as perdu le jeu” et sortir du programme.\n"
      ]
    },
    {
      "cell_type": "code",
      "metadata": {
        "id": "adKPQe1Hsi2g",
        "colab_type": "code",
        "outputId": "3437e844-fb38-4bbc-8f82-378b58abc6fb",
        "colab": {
          "base_uri": "https://localhost:8080/",
          "height": 138
        }
      },
      "source": [
        ""
      ],
      "execution_count": 0,
      "outputs": [
        {
          "output_type": "stream",
          "text": [
            "Voici notre quiz, tu as trois chances !\n",
            "Combien de fois la France a gagné la coupe du monde ?2\n",
            "Quand a été fondé Applelol\n",
            "Dommage ! Il te reste 2 chances\n",
            "Quand a été fondé Apple ?1976\n",
            "Qui a fondé SpaceXElon Musk\n",
            "Bravo ! Tu as gagné le quiz !\n"
          ],
          "name": "stdout"
        }
      ]
    },
    {
      "cell_type": "code",
      "metadata": {
        "id": "LV_ACPSXs3pg",
        "colab_type": "code",
        "colab": {}
      },
      "source": [
        ""
      ],
      "execution_count": 0,
      "outputs": []
    }
  ]
}